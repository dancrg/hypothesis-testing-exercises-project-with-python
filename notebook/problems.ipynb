{
 "cells": [
  {
   "cell_type": "markdown",
   "id": "d9d036c6",
   "metadata": {},
   "source": [
    "# Hypothesis testing problems"
   ]
  },
  {
   "cell_type": "markdown",
   "id": "d157c4db",
   "metadata": {},
   "source": [
    "## Exercise 1\n",
    "\n",
    "You are a nutritionist researching two different types of diets to see if there is a significant difference in weight loss after one month. You choose two random groups of people; one group follows the first diet, and the other follows the second. At the end of the month, you record the weight loss (in kg) for each person:\n",
    "\n",
    "| Diet 1 | Diet 2 |\n",
    "|:-------|:-------|\n",
    "| 2.0 | 3.0 |\n",
    "| 2.5 | 3.2 |\n",
    "| 3.0 | 3.1 |\n",
    "| 2.8 | 2.9 |\n",
    "| 2.3 | 2.8 |\n",
    "| 2.7 | 3.0 |\n",
    "| 2.5 | 3.2 |\n",
    "\n",
    "With these data, it seeks to answer the following question: Is there a significant difference in average weight loss between people who followed the first diet and those who followed the second diet?\n",
    "\n",
    "To draw conclusions, follow the points below:\n",
    "\n",
    "- State the hypothesis: null and alternative hypothesis.\n",
    "- Perform the test to test the hypothesis. You can use a Student's t-test.\n",
    "- Analyze the conclusions."
   ]
  },
  {
   "cell_type": "code",
   "execution_count": 1,
   "id": "8e0f3cf0",
   "metadata": {},
   "outputs": [
    {
     "name": "stdout",
     "output_type": "stream",
     "text": [
      "P-Valor Levene es: 0.158, mayor que alpha = 0.05 (Varianzas iguales).\n",
      "\n",
      "Valor t-test igual a 0.00408: SE RECHAZA HIPOTESIS NULA,\n",
      "lo cual significa que existen diferencias significativas entre dieta 1 y dieta 2.\n"
     ]
    }
   ],
   "source": [
    "# TODO\n",
    "\n",
    "# T-TEST - COMPARACION DE MEDIAS, 2 GRUPOS\n",
    "\n",
    "# Ho:   miu_Dieta 1   =  miu_Dieta2\n",
    "# Ha:   miu_Dieta 1  !=  miu_Dieta2\n",
    "\n",
    "import scipy\n",
    "\n",
    "dieta1 = [2, 2.5, 3, 2.8, 2.3, 2.7, 2.5]\n",
    "dieta2 = [3, 3.2, 3.1, 2.9, 2.8, 3.0, 3.2]\n",
    "\n",
    "# COMPARACION DE VARIANZAS:\n",
    "\n",
    "pvalor_levene = scipy.stats.levene(dieta1,dieta2).pvalue\n",
    "print(f'P-Valor Levene es: {round(pvalor_levene,3)}, mayor que alpha = 0.05 (Varianzas iguales).\\n')\n",
    "\n",
    "# T-TEST:\n",
    "\n",
    "t_stat, p = scipy.stats.ttest_ind(dieta1,dieta2, equal_var=True)\n",
    "\n",
    "print(f'Valor t-test igual a {round(p,5)}: SE RECHAZA HIPOTESIS NULA,\\nlo cual significa que existen diferencias significativas entre dieta 1 y dieta 2.')"
   ]
  },
  {
   "cell_type": "markdown",
   "id": "f432e18e",
   "metadata": {},
   "source": [
    "## ANOVA\n",
    "\n",
    "**ANOVA** (*Analysis of Variance*) is a statistical technique used to compare the measures of two or more groups. The idea behind ANOVA is to decompose the total variability in the data into two components: between-group variability and within-group variability:\n",
    "\n",
    "- **Between-group variability**: This variability refers to the differences between the group means. If this variability is considerably larger than the within-group variability, it could be an indication that at least one of the group means is different.\n",
    "- **Within-group variability**: This variability refers to the dispersion of the data within each group. If all groups have similar variability, then any noticeable difference in group means could be considered significant.\n",
    "\n",
    "Hypotheses in ANOVA typically include:\n",
    "\n",
    "- **Null hypothesis** ($H₀$): The means of all groups are equal.\n",
    "- **Alternative hypothesis** ($H₁$): At least one of the group means is different.\n",
    "\n",
    "If the ANOVA test result is significant (e.g., a p-value less than a threshold such as 0.05), this suggests that at least one group mean is different."
   ]
  },
  {
   "cell_type": "markdown",
   "id": "fc5f3721",
   "metadata": {},
   "source": [
    "## Exercise 2\n",
    "\n",
    "A farmer decides to test three different types of fertilizers to determine if one is superior in terms of corn production. The farmer plants corn on 15 identical plots and uses all three fertilizers (5 plots for each type). At the end of the season, he measures the corn yield (in kg) of each plot, with the following result:\n",
    "\n",
    "| Fertilizer 1 | Fertilizer 2 | Fertilizer 3 |\n",
    "|:-------------|:-------------|:-------------|\n",
    "| 20 | 22 | 24 |\n",
    "| 21 | 21 | 23 |\n",
    "| 20 | 23 | 22 |\n",
    "| 19 | 22 | 23 |\n",
    "| 20 | 21 | 24 |\n",
    "\n",
    "With this data, he seeks to answer the following question: Is there a significant difference in average corn yield between the three types of fertilizers?\n",
    "\n",
    "To help you, follow the points below:\n",
    "\n",
    "- State the hypothesis: null and alternative hypothesis.\n",
    "- Perform the ANOVA test.\n",
    "- Analyze the conclusions.\n",
    "- If one fertilizer is better than another, how can we know it?"
   ]
  },
  {
   "cell_type": "code",
   "execution_count": 2,
   "id": "eecad0ca",
   "metadata": {},
   "outputs": [
    {
     "name": "stdout",
     "output_type": "stream",
     "text": [
      "El valor p ANOVA es igual a 0.00014047824793190472 (menor que alpha=0.05) queriendo decir que\n",
      "existen diferencias significativas en al menos un par de los tres fertilizantes\n",
      "(se rechaza la hipotesis nula).\n",
      "\n",
      "P-valor Levene entre fertilizante 1 y 2: 0.5795839999999997.\n",
      "P-valor Levene entre fertilizante 1 y 3: 0.5795839999999997.\n",
      "P-valor Levene entre fertilizante 2 y 3: 1.0.\n",
      "\n",
      "Varianzas iguales, se procede a hacer t-test.\n",
      "\n",
      "Valor t-test entre fertilizante 1 y 2: 0.00627106210386409.\n",
      "Valor t-test entre fertilizante 1 y 3: 0.0001818820830587626.\n",
      "Valor t-test entre fertilizante 2 y 3: 0.029449305229110732.\n",
      "\n",
      "Los 3 valores t-test son menores a alpha=0.05, es decir todos\n",
      "los 3 fertilizantes tienen diferencias significativas entre si.\n",
      "\n",
      "Promedio de fertilizante 1: 20.0 Kg.\n",
      "Promedio de fertilizante 2: 21.8 Kg.\n",
      "Promedio de fertilizante 3: 23.2 Kg (Mejor fertilizante).\n"
     ]
    }
   ],
   "source": [
    "# TODO\n",
    "\n",
    "# ANOVA - COMPARACION DE MEDIAS, 3 GRUPOS\n",
    "\n",
    "import scipy\n",
    "import numpy as np\n",
    "\n",
    "lista1 = [20,21,20,19,20]\n",
    "lista2 = [22,21,23,22,21]\n",
    "lista3 = [24,23,22,23,24]\n",
    "\n",
    "# Ho:  TODAS LAS MEDIAS SON IGUALES\n",
    "# Ha:  AL MENOS DOS MEDIAS SON IGUALES\n",
    "\n",
    "# TEST ANOVA:\n",
    "\n",
    "pvalor_anova = scipy.stats.f_oneway(lista1, lista2, lista3).pvalue\n",
    "\n",
    "print(f'El valor p ANOVA es igual a {pvalor_anova} (menor que alpha=0.05) queriendo decir que\\nexisten diferencias significativas en al menos un par de los tres fertilizantes\\n(se rechaza la hipotesis nula).\\n')\n",
    "\n",
    "# TEST LEVENE ENTRE LOS 3 FERTILIZANTES:\n",
    "\n",
    "print(f'P-valor Levene entre fertilizante 1 y 2: {scipy.stats.levene(lista1,lista2).pvalue}.')\n",
    "print(f'P-valor Levene entre fertilizante 1 y 3: {scipy.stats.levene(lista1,lista3).pvalue}.')\n",
    "print(f'P-valor Levene entre fertilizante 2 y 3: {scipy.stats.levene(lista2,lista3).pvalue}.\\n')\n",
    "print('Varianzas iguales, se procede a hacer t-test.\\n')\n",
    "\n",
    "# T-TEST:\n",
    "\n",
    "t_stat, p1 = scipy.stats.ttest_ind(lista1,lista2, equal_var=True)\n",
    "t_stat, p2 = scipy.stats.ttest_ind(lista1,lista3, equal_var=True)\n",
    "t_stat, p3 = scipy.stats.ttest_ind(lista2,lista3, equal_var=True)\n",
    "\n",
    "print(f'Valor t-test entre fertilizante 1 y 2: {p1}.')\n",
    "print(f'Valor t-test entre fertilizante 1 y 3: {p2}.')\n",
    "print(f'Valor t-test entre fertilizante 2 y 3: {p3}.\\n')\n",
    "\n",
    "print(f'Los 3 valores t-test son menores a alpha=0.05, es decir todos\\nlos 3 fertilizantes tienen diferencias significativas entre si.\\n')\n",
    "\n",
    "# MEJOR FERTILIZANTE:\n",
    "\n",
    "print(f'Promedio de fertilizante 1: {np.mean(lista1)} Kg.')\n",
    "print(f'Promedio de fertilizante 2: {np.mean(lista2)} Kg.')\n",
    "print(f'Promedio de fertilizante 3: {np.mean(lista3)} Kg (Mejor fertilizante).')"
   ]
  }
 ],
 "metadata": {
  "kernelspec": {
   "display_name": "Python 3",
   "language": "python",
   "name": "python3"
  },
  "language_info": {
   "codemirror_mode": {
    "name": "ipython",
    "version": 3
   },
   "file_extension": ".py",
   "mimetype": "text/x-python",
   "name": "python",
   "nbconvert_exporter": "python",
   "pygments_lexer": "ipython3",
   "version": "3.11.4"
  }
 },
 "nbformat": 4,
 "nbformat_minor": 5
}
